{
 "cells": [
  {
   "cell_type": "code",
   "execution_count": 1,
   "id": "deae8209",
   "metadata": {},
   "outputs": [],
   "source": [
    "# Import the random module.\n",
    "import random"
   ]
  },
  {
   "cell_type": "code",
   "execution_count": 10,
   "id": "847b6abb",
   "metadata": {},
   "outputs": [
    {
     "data": {
      "text/plain": [
       "89"
      ]
     },
     "execution_count": 10,
     "metadata": {},
     "output_type": "execute_result"
    }
   ],
   "source": [
    "random.randint(-90,90)"
   ]
  },
  {
   "cell_type": "code",
   "execution_count": 18,
   "id": "d7e07857",
   "metadata": {},
   "outputs": [
    {
     "data": {
      "text/plain": [
       "0.07184293830809119"
      ]
     },
     "execution_count": 18,
     "metadata": {},
     "output_type": "execute_result"
    }
   ],
   "source": [
    "random.random()"
   ]
  },
  {
   "cell_type": "code",
   "execution_count": 25,
   "id": "da081049",
   "metadata": {},
   "outputs": [
    {
     "data": {
      "text/plain": [
       "1.6156212226799154"
      ]
     },
     "execution_count": 25,
     "metadata": {},
     "output_type": "execute_result"
    }
   ],
   "source": [
    "random_number = random.randint(-90,90) + random.random()\n",
    "random_number"
   ]
  },
  {
   "cell_type": "code",
   "execution_count": 29,
   "id": "863d06ee",
   "metadata": {},
   "outputs": [],
   "source": [
    "x = 1\n",
    "latitudes = []\n",
    "while x < 11:\n",
    "    random_lat = random.randint(-90, 89) + random.random()\n",
    "    latitudes.append(random_lat)\n",
    "    x += 1"
   ]
  },
  {
   "cell_type": "code",
   "execution_count": 30,
   "id": "5d7d0c10",
   "metadata": {},
   "outputs": [
    {
     "data": {
      "text/plain": [
       "[-32.76549785123601,\n",
       " -14.033621623487981,\n",
       " -31.019546520594158,\n",
       " 26.411415625504205,\n",
       " 0.0691169798510628,\n",
       " 68.85672411152673,\n",
       " 58.6063421687289,\n",
       " -31.209871948925706,\n",
       " 41.88982915670294,\n",
       " 88.52344638426656]"
      ]
     },
     "execution_count": 30,
     "metadata": {},
     "output_type": "execute_result"
    }
   ],
   "source": [
    "latitudes"
   ]
  },
  {
   "cell_type": "code",
   "execution_count": 55,
   "id": "37bae576",
   "metadata": {},
   "outputs": [
    {
     "data": {
      "text/plain": [
       "-18"
      ]
     },
     "execution_count": 55,
     "metadata": {},
     "output_type": "execute_result"
    }
   ],
   "source": [
    "random.randrange(-90, 90, step=3)"
   ]
  },
  {
   "cell_type": "code",
   "execution_count": 56,
   "id": "2ff3a370",
   "metadata": {},
   "outputs": [
    {
     "data": {
      "text/plain": [
       "-36.573554444057436"
      ]
     },
     "execution_count": 56,
     "metadata": {},
     "output_type": "execute_result"
    }
   ],
   "source": [
    "random.uniform(-90, 90)"
   ]
  },
  {
   "cell_type": "code",
   "execution_count": 57,
   "id": "55c69fe9",
   "metadata": {},
   "outputs": [],
   "source": [
    "# Import the NumPy module.\n",
    "import numpy as np"
   ]
  },
  {
   "cell_type": "code",
   "execution_count": 58,
   "id": "1603b5a1",
   "metadata": {},
   "outputs": [
    {
     "data": {
      "text/plain": [
       "-51.712775080342716"
      ]
     },
     "execution_count": 58,
     "metadata": {},
     "output_type": "execute_result"
    }
   ],
   "source": [
    "np.random.uniform(-90.000, 90.000)"
   ]
  },
  {
   "cell_type": "code",
   "execution_count": 59,
   "id": "329ac5eb",
   "metadata": {},
   "outputs": [
    {
     "data": {
      "text/plain": [
       "array([-3.25038640e+01,  6.47641383e+00,  7.84656272e+01,  7.48293406e+01,\n",
       "       -2.78906618e+00, -6.26877137e+01, -8.37527465e+01,  1.91329885e+01,\n",
       "       -1.25800183e+01, -1.72193765e+01,  5.27893243e+01, -3.06730170e+01,\n",
       "        6.42301579e+01, -8.64627720e+01,  7.04544858e+01,  4.56809316e+01,\n",
       "       -8.07114164e+01, -1.61290590e-01, -7.22447371e+01, -6.81461816e+01,\n",
       "        4.41953249e+01, -2.78539741e+01, -6.15455411e+01, -7.73408381e+01,\n",
       "       -2.32005374e+00, -7.80731943e+01,  1.03222818e+01, -1.37287823e+01,\n",
       "       -1.06727388e+01,  6.73777449e+01,  1.83709722e+01, -8.78987932e+01,\n",
       "       -3.99337497e+01,  1.43821298e+01, -4.33710290e+01, -3.52220515e+01,\n",
       "       -8.10149762e+01,  4.92972210e+01,  5.27292471e+01, -4.13631552e+01,\n",
       "        2.15827387e+01,  5.20517216e-03, -8.27340556e+01,  5.91807886e+01,\n",
       "       -6.38321088e+01, -2.44712850e+01,  4.42490857e+01, -6.86769551e+01,\n",
       "       -8.51136720e+01,  7.16383268e+00])"
      ]
     },
     "execution_count": 59,
     "metadata": {},
     "output_type": "execute_result"
    }
   ],
   "source": [
    "np.random.uniform(-90.000, 90.000, size=50)"
   ]
  },
  {
   "cell_type": "code",
   "execution_count": 60,
   "id": "fbb7cb0c",
   "metadata": {},
   "outputs": [],
   "source": [
    "# Import timeit.\n",
    "import timeit"
   ]
  },
  {
   "cell_type": "code",
   "execution_count": 61,
   "id": "5c1eec21",
   "metadata": {},
   "outputs": [
    {
     "name": "stdout",
     "output_type": "stream",
     "text": [
      "11.4 µs ± 152 ns per loop (mean ± std. dev. of 7 runs, 100000 loops each)\n"
     ]
    }
   ],
   "source": [
    "%timeit np.random.uniform(-90.000, 90.000, size=1500)"
   ]
  },
  {
   "cell_type": "code",
   "execution_count": 62,
   "id": "39ceb2df",
   "metadata": {},
   "outputs": [
    {
     "name": "stdout",
     "output_type": "stream",
     "text": [
      "1.37 ms ± 149 µs per loop (mean ± std. dev. of 7 runs, 1000 loops each)\n"
     ]
    }
   ],
   "source": [
    "def latitudes(size):\n",
    "    latitudes = []\n",
    "    x = 0\n",
    "    while x < (size):\n",
    "        random_lat = random.randint(-90, 90) + random.random()\n",
    "        latitudes.append(random_lat)\n",
    "        x += 1\n",
    "    return latitudes\n",
    "# Call the function with 1500.\n",
    "%timeit latitudes(1500)"
   ]
  },
  {
   "cell_type": "code",
   "execution_count": 64,
   "id": "93c33537",
   "metadata": {},
   "outputs": [
    {
     "name": "stdout",
     "output_type": "stream",
     "text": [
      "1.16 ms ± 51.7 µs per loop (mean ± std. dev. of 7 runs, 1000 loops each)\n"
     ]
    }
   ],
   "source": [
    "def latitudes(size):\n",
    "    latitudes = []\n",
    "    for x in range(1,size+1):        \n",
    "        random_lat = random.randint(-90, 90) + random.random()\n",
    "        latitudes.append(random_lat)\n",
    "    return latitudes\n",
    "# Call the function with 1500.\n",
    "%timeit latitudes(1500)"
   ]
  },
  {
   "cell_type": "code",
   "execution_count": null,
   "id": "0fb6c5d6",
   "metadata": {},
   "outputs": [],
   "source": []
  }
 ],
 "metadata": {
  "kernelspec": {
   "display_name": "PythonData",
   "language": "python",
   "name": "pythondata"
  },
  "language_info": {
   "codemirror_mode": {
    "name": "ipython",
    "version": 3
   },
   "file_extension": ".py",
   "mimetype": "text/x-python",
   "name": "python",
   "nbconvert_exporter": "python",
   "pygments_lexer": "ipython3",
   "version": "3.9.7"
  }
 },
 "nbformat": 4,
 "nbformat_minor": 5
}
