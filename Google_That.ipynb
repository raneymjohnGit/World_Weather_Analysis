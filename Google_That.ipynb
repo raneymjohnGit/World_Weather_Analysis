{
 "cells": [
  {
   "cell_type": "code",
   "execution_count": 22,
   "metadata": {},
   "outputs": [],
   "source": [
    "# Create code to answer each of the following questions.\n",
    "# Hint: You will need multiple target URLs and multiple API requests.\n",
    "\n",
    "# Dependencies\n",
    "import requests\n",
    "import json\n",
    "\n",
    "# Retrieve Google API key from config.py\n",
    "# Import API key\n",
    "from config import g_key"
   ]
  },
  {
   "cell_type": "code",
   "execution_count": 23,
   "metadata": {},
   "outputs": [],
   "source": [
    "# 1. What are the geocoordinates (latitude/longitude) of Seattle, Washington?\n",
    "def findgeocord (address):\n",
    "    params = {\"address\": address, \"key\": g_key}\n",
    "    base_url = \"https://maps.googleapis.com/maps/api/geocode/json\"\n",
    "    # Run request\n",
    "    response = requests.get(base_url, params=params)\n",
    "    city_geo = response.json()\n",
    "    lat = city_geo[\"results\"][0][\"geometry\"][\"location\"][\"lat\"]\n",
    "    lng = city_geo[\"results\"][0][\"geometry\"][\"location\"][\"lng\"]\n",
    "    print(f\" {address} has latitude as {lat} and longitude as {lng} \")\n",
    "    coordinates =  str(lat) + \",\" + str(lng)\n",
    "    return coordinates\n"
   ]
  },
  {
   "cell_type": "code",
   "execution_count": 24,
   "metadata": {},
   "outputs": [],
   "source": [
    "def findnearest(params, coordinates):\n",
    "    base_url = \"https://maps.googleapis.com/maps/api/place/nearbysearch/json\"\n",
    "    # Run request\n",
    "    searchentities = requests.get(base_url, params=params).json()\n",
    "    entity_name = searchentities[\"results\"][0] [\"name\"]\n",
    "    entity_address = searchentities[\"results\"][0] [\"vicinity\"]\n",
    "    print(f\" Nearest {search_type} is {entity_name} and address is {entity_address}\")\n",
    "    "
   ]
  },
  {
   "cell_type": "code",
   "execution_count": 31,
   "metadata": {},
   "outputs": [
    {
     "name": "stdout",
     "output_type": "stream",
     "text": [
      " Dallas, Texas has latitude as 32.7766642 and longitude as -96.79698789999999 \n"
     ]
    }
   ],
   "source": [
    "city_name = \"Dallas, Texas\"\n",
    "coordinates = findgeocord(city_name)"
   ]
  },
  {
   "cell_type": "code",
   "execution_count": 26,
   "metadata": {},
   "outputs": [
    {
     "name": "stdout",
     "output_type": "stream",
     "text": [
      " The White House has latitude as 38.8976763 and longitude as -77.0365298 \n"
     ]
    }
   ],
   "source": [
    "# 2. What are the geocoordinates (latitude/longitude) of The White House?\n",
    "\n",
    "city_name = \"The White House\"\n",
    "coordinates = findgeocord(city_name)"
   ]
  },
  {
   "cell_type": "code",
   "execution_count": 27,
   "metadata": {},
   "outputs": [
    {
     "name": "stdout",
     "output_type": "stream",
     "text": [
      " Seattle, Washington has latitude as 47.6062095 and longitude as -122.3320708 \n",
      " Nearest bicycle_store is REI and address is 222 Yale Avenue North, Seattle\n"
     ]
    }
   ],
   "source": [
    "# 3. Find the name and address of a bike store in Seattle, Washington.\n",
    "#    Hint: See https://developers.google.com/places/web-service/supported_types\n",
    "city_name = \"Seattle, Washington\"\n",
    "coordinates = findgeocord(city_name)\n",
    "search_type = \"bicycle_store\"\n",
    "params = {\n",
    "    \"radius\": 5000,\n",
    "    \"types\": search_type,\n",
    "    \"key\": g_key,\n",
    "    \"location\": coordinates\n",
    "            }\n",
    "findnearest(params, coordinates)\n"
   ]
  },
  {
   "cell_type": "code",
   "execution_count": 29,
   "metadata": {},
   "outputs": [
    {
     "name": "stdout",
     "output_type": "stream",
     "text": [
      " The White House has latitude as 38.8976763 and longitude as -77.0365298 \n",
      " Nearest book_store is GW Campus Store and address is 800 21st Street Northwest, Washington\n"
     ]
    }
   ],
   "source": [
    "# 4. Find a balloon store near the White House.\n",
    "city_name = \"The White House\"\n",
    "coordinates = findgeocord(city_name)\n",
    "search_type = \"book_store\"\n",
    "params = {\n",
    "    \"radius\": 5000,\n",
    "    \"types\": search_type,\n",
    "    \"key\": g_key,\n",
    "    \"location\": coordinates\n",
    "            }\n",
    "findnearest(params, coordinates)"
   ]
  },
  {
   "cell_type": "code",
   "execution_count": 30,
   "metadata": {},
   "outputs": [
    {
     "name": "stdout",
     "output_type": "stream",
     "text": [
      " 1812 Jace Dr Mckinney Texas has latitude as 33.2169231 and longitude as -96.7556932 \n",
      " Nearest dentist is Bracify 3D Orthodontics and address is 2361 East University Drive Suite #30, Prosper\n"
     ]
    }
   ],
   "source": [
    "# 5. Find the nearest dentist to your house.\n",
    "#    Hint: Use Google Maps to find your latitude and Google Places to find the\n",
    "#    dentist. You will also need the rankby property.\n",
    "\n",
    "address = \"1812 Jace Dr Mckinney Texas\"\n",
    "coordinates = findgeocord(address)\n",
    "search_type = \"dentist\"\n",
    "params = {\n",
    "    \"types\": search_type,\n",
    "    \"key\": g_key,\n",
    "    \"location\": coordinates,\n",
    "    \"rankby\" : \"distance\"\n",
    "            }\n",
    "findnearest(params, coordinates)"
   ]
  },
  {
   "cell_type": "code",
   "execution_count": null,
   "metadata": {},
   "outputs": [],
   "source": []
  }
 ],
 "metadata": {
  "kernelspec": {
   "display_name": "PythonData",
   "language": "python",
   "name": "pythondata"
  },
  "language_info": {
   "codemirror_mode": {
    "name": "ipython",
    "version": 3
   },
   "file_extension": ".py",
   "mimetype": "text/x-python",
   "name": "python",
   "nbconvert_exporter": "python",
   "pygments_lexer": "ipython3",
   "version": "3.9.7"
  }
 },
 "nbformat": 4,
 "nbformat_minor": 2
}
